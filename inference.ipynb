{
 "cells": [
  {
   "cell_type": "code",
   "execution_count": null,
   "metadata": {
    "tags": []
   },
   "outputs": [],
   "source": [
    "\n",
    "import torch\n",
    "import numpy as np\n",
    "import torchvision.transforms as T\n",
    "import torchvision.models as models\n",
    "import os\n",
    "from PIL import Image\n",
    "import matplotlib.pyplot as plt\n",
    "%matplotlib inline\n"
   ]
  },
  {
   "cell_type": "code",
   "execution_count": null,
   "metadata": {},
   "outputs": [],
   "source": [
    "import faiss                   # make faiss available\n",
    "index = faiss.IndexFlatL2(2048)   # build the index\n",
    "print(index.is_trained)\n",
    "import glob\n",
    "images=glob.glob('data1/*.jpg')\n",
    "print(len(images))\n"
   ]
  },
  {
   "cell_type": "code",
   "execution_count": null,
   "metadata": {},
   "outputs": [],
   "source": [
    "feature_extractor = torch.nn.Sequential(*list(models.resnext101_32x8d(pretrained=True).cuda().children())[:-1])\n",
    "jitter = T.ColorJitter(brightness=.5, hue=.3)\n",
    "rotater = T.RandomRotation(degrees=(0, 180))\n",
    "op_resize=T.Resize(size=(256,256))\n",
    "op_norm=T.Normalize(\n",
    "       mean=[0.485, 0.456, 0.406],\n",
    "       std=[0.229, 0.224, 0.225]\n",
    "   )\n",
    "convert_tensor = T.ToTensor()\n",
    "for image_path in images:\n",
    "    img = Image.open(image_path)\n",
    "    img=op_resize(img)\n",
    "    img=convert_tensor(img).view(1,3,256,256).cuda()\n",
    "    img=op_norm(img)\n",
    "    img_feature=feature_extractor(img)\n",
    "    index.add(img_feature.detach().cpu().view(1,-1).numpy())                  # add vectors to the index"
   ]
  },
  {
   "cell_type": "code",
   "execution_count": null,
   "metadata": {},
   "outputs": [],
   "source": [
    "perspective_transformer = T.RandomPerspective(distortion_scale=0.4, p=1.0)\n",
    "import random\n",
    "id=random.randint(0,len(images))\n",
    "img1 = Image.open(images[id])\n",
    "img1=op_resize(img1)\n",
    "# img1=jitter(img1)\n",
    "# img1=rotater(img1)\n",
    "img1=perspective_transformer(img1)\n",
    "img=convert_tensor(img1).view(1,3,256,256).cuda()\n",
    "img=op_norm(img)\n",
    "img_feature=feature_extractor(img).detach().cpu().view(1,-1).numpy()\n",
    "D, I = index.search(img_feature, 3)\n",
    "print(I,D)\n",
    "# plt.imshow(img1)\n",
    "def get_concat_h(im1,img):\n",
    "    height= im1.height if im1.height > img.height else img.height\n",
    "    dst = Image.new('RGB', (im1.width + img.width, height))\n",
    "    dst.paste(im1, (0, 0))\n",
    "    dst.paste(img, (im1.width, 0))\n",
    "    return dst\n",
    "dst=Image.open(images[I[0][0]]).convert(\"RGB\")\n",
    "for i in range(1,3):\n",
    "    img = Image.open(images[I[0][i]]).convert(\"RGB\")\n",
    "    dst=get_concat_h(dst,img)\n",
    "plt.imshow(dst)\n",
    "plt.show()\n",
    "plt.imshow(img1)\n",
    "plt.show()"
   ]
  },
  {
   "cell_type": "code",
   "execution_count": null,
   "metadata": {},
   "outputs": [],
   "source": [
    "#测试代码\n",
    "perspective_transformer = T.RandomPerspective(distortion_scale=0.2, p=.8)\n",
    "correct=0\n",
    "count=0\n",
    "length=len(images)-1\n",
    "for i in range(200):\n",
    "    id=random.randint(0,length)\n",
    "    img1 = Image.open(images[id])\n",
    "    img1=op_resize(img1)\n",
    "    img1=perspective_transformer(img1)\n",
    "    img=convert_tensor(img1).view(1,3,256,256).cuda()\n",
    "    img=op_norm(img)\n",
    "    img_feature=feature_extractor(img).detach().cpu().view(1,-1).numpy()\n",
    "    D, I = index.search(img_feature, 2)\n",
    "    pred_id=I[0][0]\n",
    "    if id==pred_id:\n",
    "        correct+=1\n",
    "    count+=1\n",
    "print(f'准确率：{correct/count}')\n"
   ]
  }
 ],
 "metadata": {
  "kernelspec": {
   "display_name": "Python 3.7.15 ('ai')",
   "language": "python",
   "name": "python3"
  },
  "language_info": {
   "codemirror_mode": {
    "name": "ipython",
    "version": 3
   },
   "file_extension": ".py",
   "mimetype": "text/x-python",
   "name": "python",
   "nbconvert_exporter": "python",
   "pygments_lexer": "ipython3",
   "version": "3.7.12"
  },
  "orig_nbformat": 2,
  "vscode": {
   "interpreter": {
    "hash": "d8df3d1517783d6501a5bbc15eb3f9a815bbe92334e0cfef809ecc9c571e9cac"
   }
  }
 },
 "nbformat": 4,
 "nbformat_minor": 2
}
